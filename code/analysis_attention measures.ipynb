{
 "cells": [
  {
   "cell_type": "code",
   "execution_count": 1,
   "id": "2fe7f1a8-092a-4d47-b80f-00e8b669373a",
   "metadata": {},
   "outputs": [],
   "source": [
    "import pandas as pd\n",
    "import numpy as np\n",
    "from collections import Counter\n",
    "import matplotlib.pyplot as plt\n",
    "import seaborn as sns\n",
    "import bisect\n",
    "from scipy import stats\n",
    "from ast import literal_eval\n",
    "import functions as f\n",
    "\n",
    "path = \"..\""
   ]
  },
  {
   "cell_type": "code",
   "execution_count": 2,
   "id": "3c81e7a2-5dac-4eb6-9afc-e1b81a53f23c",
   "metadata": {},
   "outputs": [
    {
     "data": {
      "text/plain": [
       "<module 'functions' from '/Users/ss4316/Documents/Research/gender_visibility/replication/code/functions.py'>"
      ]
     },
     "execution_count": 2,
     "metadata": {},
     "output_type": "execute_result"
    }
   ],
   "source": [
    "import importlib\n",
    "importlib.reload(f)"
   ]
  },
  {
   "cell_type": "code",
   "execution_count": 3,
   "id": "4776046b",
   "metadata": {},
   "outputs": [],
   "source": [
    "df = pd.read_csv(f'{path}/data/panel_bios_anonymized.tsv',\n",
    "                 low_memory=False,\n",
    "                 sep = \"\\t\")\n",
    "\n",
    "df = df[df['active']==1].reset_index()"
   ]
  },
  {
   "cell_type": "code",
   "execution_count": 4,
   "id": "53627675-9e4d-4e6f-a4e1-e9ecb209fc1a",
   "metadata": {},
   "outputs": [
    {
     "name": "stdout",
     "output_type": "stream",
     "text": [
      "Number of users with at least 1 authored tweet 549105\n"
     ]
    }
   ],
   "source": [
    "print(f\"Number of users with at least 1 authored tweet {len(df)}\")"
   ]
  },
  {
   "cell_type": "markdown",
   "id": "b5512ee2",
   "metadata": {},
   "source": [
    "### Note:\n",
    "Our anonymized dataset produces slight different responses than reported in the paper."
   ]
  },
  {
   "cell_type": "code",
   "execution_count": 5,
   "id": "dc7625ed-d8f1-40fc-8df2-175272c0e856",
   "metadata": {},
   "outputs": [
    {
     "data": {
      "text/html": [
       "<div>\n",
       "<style scoped>\n",
       "    .dataframe tbody tr th:only-of-type {\n",
       "        vertical-align: middle;\n",
       "    }\n",
       "\n",
       "    .dataframe tbody tr th {\n",
       "        vertical-align: top;\n",
       "    }\n",
       "\n",
       "    .dataframe thead th {\n",
       "        text-align: right;\n",
       "    }\n",
       "</style>\n",
       "<table border=\"1\" class=\"dataframe\">\n",
       "  <thead>\n",
       "    <tr style=\"text-align: right;\">\n",
       "      <th></th>\n",
       "      <th>mean_retweet_avg</th>\n",
       "      <th>median_retweet_avg</th>\n",
       "      <th>mean_likes_avg</th>\n",
       "      <th>median_likes_avg</th>\n",
       "      <th>mean_followers</th>\n",
       "      <th>median_followers</th>\n",
       "      <th>mean_ntweets</th>\n",
       "      <th>median_ntweets</th>\n",
       "      <th>n_users</th>\n",
       "    </tr>\n",
       "    <tr>\n",
       "      <th>pronoun_gender</th>\n",
       "      <th></th>\n",
       "      <th></th>\n",
       "      <th></th>\n",
       "      <th></th>\n",
       "      <th></th>\n",
       "      <th></th>\n",
       "      <th></th>\n",
       "      <th></th>\n",
       "      <th></th>\n",
       "    </tr>\n",
       "  </thead>\n",
       "  <tbody>\n",
       "    <tr>\n",
       "      <th>Female</th>\n",
       "      <td>0.72</td>\n",
       "      <td>0.12</td>\n",
       "      <td>7.78</td>\n",
       "      <td>2.24</td>\n",
       "      <td>1579.98</td>\n",
       "      <td>421.69</td>\n",
       "      <td>957.61</td>\n",
       "      <td>242.25</td>\n",
       "      <td>15636</td>\n",
       "    </tr>\n",
       "    <tr>\n",
       "      <th>Male</th>\n",
       "      <td>0.61</td>\n",
       "      <td>0.11</td>\n",
       "      <td>6.45</td>\n",
       "      <td>2.11</td>\n",
       "      <td>1877.57</td>\n",
       "      <td>407.71</td>\n",
       "      <td>1326.55</td>\n",
       "      <td>356.08</td>\n",
       "      <td>8344</td>\n",
       "    </tr>\n",
       "    <tr>\n",
       "      <th>Mixed_pro</th>\n",
       "      <td>0.58</td>\n",
       "      <td>0.11</td>\n",
       "      <td>5.99</td>\n",
       "      <td>2.23</td>\n",
       "      <td>1094.86</td>\n",
       "      <td>346.70</td>\n",
       "      <td>1275.51</td>\n",
       "      <td>356.03</td>\n",
       "      <td>1271</td>\n",
       "    </tr>\n",
       "    <tr>\n",
       "      <th>Non-binary</th>\n",
       "      <td>0.65</td>\n",
       "      <td>0.11</td>\n",
       "      <td>6.35</td>\n",
       "      <td>2.08</td>\n",
       "      <td>1408.02</td>\n",
       "      <td>292.75</td>\n",
       "      <td>1335.89</td>\n",
       "      <td>321.53</td>\n",
       "      <td>840</td>\n",
       "    </tr>\n",
       "    <tr>\n",
       "      <th>NaN</th>\n",
       "      <td>0.41</td>\n",
       "      <td>0.05</td>\n",
       "      <td>3.58</td>\n",
       "      <td>0.87</td>\n",
       "      <td>1146.71</td>\n",
       "      <td>243.57</td>\n",
       "      <td>412.74</td>\n",
       "      <td>43.61</td>\n",
       "      <td>523014</td>\n",
       "    </tr>\n",
       "  </tbody>\n",
       "</table>\n",
       "</div>"
      ],
      "text/plain": [
       "                mean_retweet_avg  median_retweet_avg  mean_likes_avg  \\\n",
       "pronoun_gender                                                         \n",
       "Female                      0.72                0.12            7.78   \n",
       "Male                        0.61                0.11            6.45   \n",
       "Mixed_pro                   0.58                0.11            5.99   \n",
       "Non-binary                  0.65                0.11            6.35   \n",
       "NaN                         0.41                0.05            3.58   \n",
       "\n",
       "                median_likes_avg  mean_followers  median_followers  \\\n",
       "pronoun_gender                                                       \n",
       "Female                      2.24         1579.98            421.69   \n",
       "Male                        2.11         1877.57            407.71   \n",
       "Mixed_pro                   2.23         1094.86            346.70   \n",
       "Non-binary                  2.08         1408.02            292.75   \n",
       "NaN                         0.87         1146.71            243.57   \n",
       "\n",
       "                mean_ntweets  median_ntweets  n_users  \n",
       "pronoun_gender                                         \n",
       "Female                957.61          242.25    15636  \n",
       "Male                 1326.55          356.08     8344  \n",
       "Mixed_pro            1275.51          356.03     1271  \n",
       "Non-binary           1335.89          321.53      840  \n",
       "NaN                   412.74           43.61   523014  "
      ]
     },
     "execution_count": 5,
     "metadata": {},
     "output_type": "execute_result"
    }
   ],
   "source": [
    "f.calc_stats(\"pronoun_gender\", df)"
   ]
  },
  {
   "cell_type": "code",
   "execution_count": 6,
   "id": "5c8fa672-8a1e-45be-b5ed-534570d794f4",
   "metadata": {},
   "outputs": [
    {
     "data": {
      "text/html": [
       "<div>\n",
       "<style scoped>\n",
       "    .dataframe tbody tr th:only-of-type {\n",
       "        vertical-align: middle;\n",
       "    }\n",
       "\n",
       "    .dataframe tbody tr th {\n",
       "        vertical-align: top;\n",
       "    }\n",
       "\n",
       "    .dataframe thead th {\n",
       "        text-align: right;\n",
       "    }\n",
       "</style>\n",
       "<table border=\"1\" class=\"dataframe\">\n",
       "  <thead>\n",
       "    <tr style=\"text-align: right;\">\n",
       "      <th></th>\n",
       "      <th>mean_retweet_avg</th>\n",
       "      <th>median_retweet_avg</th>\n",
       "      <th>mean_likes_avg</th>\n",
       "      <th>median_likes_avg</th>\n",
       "      <th>mean_followers</th>\n",
       "      <th>median_followers</th>\n",
       "      <th>mean_ntweets</th>\n",
       "      <th>median_ntweets</th>\n",
       "      <th>n_users</th>\n",
       "    </tr>\n",
       "    <tr>\n",
       "      <th>word_gender</th>\n",
       "      <th></th>\n",
       "      <th></th>\n",
       "      <th></th>\n",
       "      <th></th>\n",
       "      <th></th>\n",
       "      <th></th>\n",
       "      <th></th>\n",
       "      <th></th>\n",
       "      <th></th>\n",
       "    </tr>\n",
       "  </thead>\n",
       "  <tbody>\n",
       "    <tr>\n",
       "      <th>Female</th>\n",
       "      <td>0.32</td>\n",
       "      <td>0.05</td>\n",
       "      <td>3.14</td>\n",
       "      <td>0.86</td>\n",
       "      <td>983.59</td>\n",
       "      <td>218.89</td>\n",
       "      <td>397.94</td>\n",
       "      <td>38.02</td>\n",
       "      <td>53691</td>\n",
       "    </tr>\n",
       "    <tr>\n",
       "      <th>Male</th>\n",
       "      <td>0.36</td>\n",
       "      <td>0.05</td>\n",
       "      <td>3.53</td>\n",
       "      <td>0.98</td>\n",
       "      <td>1211.52</td>\n",
       "      <td>238.95</td>\n",
       "      <td>443.64</td>\n",
       "      <td>53.42</td>\n",
       "      <td>40594</td>\n",
       "    </tr>\n",
       "    <tr>\n",
       "      <th>Mixed_gen_word</th>\n",
       "      <td>0.19</td>\n",
       "      <td>0.04</td>\n",
       "      <td>2.31</td>\n",
       "      <td>0.78</td>\n",
       "      <td>641.61</td>\n",
       "      <td>170.43</td>\n",
       "      <td>367.78</td>\n",
       "      <td>34.87</td>\n",
       "      <td>3662</td>\n",
       "    </tr>\n",
       "    <tr>\n",
       "      <th>Non-binary</th>\n",
       "      <td>0.21</td>\n",
       "      <td>0.06</td>\n",
       "      <td>2.73</td>\n",
       "      <td>2.16</td>\n",
       "      <td>804.77</td>\n",
       "      <td>357.78</td>\n",
       "      <td>2565.36</td>\n",
       "      <td>662.10</td>\n",
       "      <td>49</td>\n",
       "    </tr>\n",
       "    <tr>\n",
       "      <th>NaN</th>\n",
       "      <td>0.44</td>\n",
       "      <td>0.05</td>\n",
       "      <td>3.86</td>\n",
       "      <td>0.92</td>\n",
       "      <td>1193.31</td>\n",
       "      <td>255.20</td>\n",
       "      <td>451.79</td>\n",
       "      <td>47.82</td>\n",
       "      <td>451109</td>\n",
       "    </tr>\n",
       "  </tbody>\n",
       "</table>\n",
       "</div>"
      ],
      "text/plain": [
       "                mean_retweet_avg  median_retweet_avg  mean_likes_avg  \\\n",
       "word_gender                                                            \n",
       "Female                      0.32                0.05            3.14   \n",
       "Male                        0.36                0.05            3.53   \n",
       "Mixed_gen_word              0.19                0.04            2.31   \n",
       "Non-binary                  0.21                0.06            2.73   \n",
       "NaN                         0.44                0.05            3.86   \n",
       "\n",
       "                median_likes_avg  mean_followers  median_followers  \\\n",
       "word_gender                                                          \n",
       "Female                      0.86          983.59            218.89   \n",
       "Male                        0.98         1211.52            238.95   \n",
       "Mixed_gen_word              0.78          641.61            170.43   \n",
       "Non-binary                  2.16          804.77            357.78   \n",
       "NaN                         0.92         1193.31            255.20   \n",
       "\n",
       "                mean_ntweets  median_ntweets  n_users  \n",
       "word_gender                                            \n",
       "Female                397.94           38.02    53691  \n",
       "Male                  443.64           53.42    40594  \n",
       "Mixed_gen_word        367.78           34.87     3662  \n",
       "Non-binary           2565.36          662.10       49  \n",
       "NaN                   451.79           47.82   451109  "
      ]
     },
     "execution_count": 6,
     "metadata": {},
     "output_type": "execute_result"
    }
   ],
   "source": [
    "f.calc_stats(\"word_gender\", df)"
   ]
  },
  {
   "cell_type": "code",
   "execution_count": 8,
   "id": "d1d127c8-e9c6-41aa-a2a6-0a2da2afb6cc",
   "metadata": {},
   "outputs": [
    {
     "data": {
      "text/html": [
       "<div>\n",
       "<style scoped>\n",
       "    .dataframe tbody tr th:only-of-type {\n",
       "        vertical-align: middle;\n",
       "    }\n",
       "\n",
       "    .dataframe tbody tr th {\n",
       "        vertical-align: top;\n",
       "    }\n",
       "\n",
       "    .dataframe thead th {\n",
       "        text-align: right;\n",
       "    }\n",
       "</style>\n",
       "<table border=\"1\" class=\"dataframe\">\n",
       "  <thead>\n",
       "    <tr style=\"text-align: right;\">\n",
       "      <th></th>\n",
       "      <th>mean_retweet_avg</th>\n",
       "      <th>median_retweet_avg</th>\n",
       "      <th>mean_likes_avg</th>\n",
       "      <th>median_likes_avg</th>\n",
       "      <th>mean_followers</th>\n",
       "      <th>median_followers</th>\n",
       "      <th>mean_ntweets</th>\n",
       "      <th>median_ntweets</th>\n",
       "      <th>n_users</th>\n",
       "    </tr>\n",
       "    <tr>\n",
       "      <th>pronoun_word_gender</th>\n",
       "      <th></th>\n",
       "      <th></th>\n",
       "      <th></th>\n",
       "      <th></th>\n",
       "      <th></th>\n",
       "      <th></th>\n",
       "      <th></th>\n",
       "      <th></th>\n",
       "      <th></th>\n",
       "    </tr>\n",
       "  </thead>\n",
       "  <tbody>\n",
       "    <tr>\n",
       "      <th>Different_pro_gen_words</th>\n",
       "      <td>0.36</td>\n",
       "      <td>0.10</td>\n",
       "      <td>4.32</td>\n",
       "      <td>2.12</td>\n",
       "      <td>1085.96</td>\n",
       "      <td>383.48</td>\n",
       "      <td>1828.56</td>\n",
       "      <td>384.26</td>\n",
       "      <td>294</td>\n",
       "    </tr>\n",
       "    <tr>\n",
       "      <th>Female</th>\n",
       "      <td>0.41</td>\n",
       "      <td>0.06</td>\n",
       "      <td>4.12</td>\n",
       "      <td>1.07</td>\n",
       "      <td>1100.84</td>\n",
       "      <td>251.47</td>\n",
       "      <td>503.98</td>\n",
       "      <td>52.22</td>\n",
       "      <td>66909</td>\n",
       "    </tr>\n",
       "    <tr>\n",
       "      <th>Male</th>\n",
       "      <td>0.40</td>\n",
       "      <td>0.06</td>\n",
       "      <td>4.01</td>\n",
       "      <td>1.11</td>\n",
       "      <td>1309.37</td>\n",
       "      <td>258.11</td>\n",
       "      <td>575.74</td>\n",
       "      <td>69.87</td>\n",
       "      <td>47776</td>\n",
       "    </tr>\n",
       "    <tr>\n",
       "      <th>Mixed_gen_word</th>\n",
       "      <td>0.19</td>\n",
       "      <td>0.04</td>\n",
       "      <td>2.30</td>\n",
       "      <td>0.76</td>\n",
       "      <td>637.05</td>\n",
       "      <td>167.99</td>\n",
       "      <td>350.20</td>\n",
       "      <td>33.86</td>\n",
       "      <td>3604</td>\n",
       "    </tr>\n",
       "    <tr>\n",
       "      <th>Mixed_pro</th>\n",
       "      <td>0.58</td>\n",
       "      <td>0.11</td>\n",
       "      <td>6.10</td>\n",
       "      <td>2.22</td>\n",
       "      <td>1102.15</td>\n",
       "      <td>340.74</td>\n",
       "      <td>1185.48</td>\n",
       "      <td>352.03</td>\n",
       "      <td>1184</td>\n",
       "    </tr>\n",
       "    <tr>\n",
       "      <th>Non-binary</th>\n",
       "      <td>0.66</td>\n",
       "      <td>0.11</td>\n",
       "      <td>6.32</td>\n",
       "      <td>2.09</td>\n",
       "      <td>1421.79</td>\n",
       "      <td>294.03</td>\n",
       "      <td>1343.85</td>\n",
       "      <td>315.95</td>\n",
       "      <td>826</td>\n",
       "    </tr>\n",
       "    <tr>\n",
       "      <th>NaN</th>\n",
       "      <td>0.43</td>\n",
       "      <td>0.05</td>\n",
       "      <td>3.67</td>\n",
       "      <td>0.87</td>\n",
       "      <td>1170.06</td>\n",
       "      <td>249.07</td>\n",
       "      <td>417.99</td>\n",
       "      <td>44.26</td>\n",
       "      <td>428512</td>\n",
       "    </tr>\n",
       "  </tbody>\n",
       "</table>\n",
       "</div>"
      ],
      "text/plain": [
       "                         mean_retweet_avg  median_retweet_avg  mean_likes_avg  \\\n",
       "pronoun_word_gender                                                             \n",
       "Different_pro_gen_words              0.36                0.10            4.32   \n",
       "Female                               0.41                0.06            4.12   \n",
       "Male                                 0.40                0.06            4.01   \n",
       "Mixed_gen_word                       0.19                0.04            2.30   \n",
       "Mixed_pro                            0.58                0.11            6.10   \n",
       "Non-binary                           0.66                0.11            6.32   \n",
       "NaN                                  0.43                0.05            3.67   \n",
       "\n",
       "                         median_likes_avg  mean_followers  median_followers  \\\n",
       "pronoun_word_gender                                                           \n",
       "Different_pro_gen_words              2.12         1085.96            383.48   \n",
       "Female                               1.07         1100.84            251.47   \n",
       "Male                                 1.11         1309.37            258.11   \n",
       "Mixed_gen_word                       0.76          637.05            167.99   \n",
       "Mixed_pro                            2.22         1102.15            340.74   \n",
       "Non-binary                           2.09         1421.79            294.03   \n",
       "NaN                                  0.87         1170.06            249.07   \n",
       "\n",
       "                         mean_ntweets  median_ntweets  n_users  \n",
       "pronoun_word_gender                                             \n",
       "Different_pro_gen_words       1828.56          384.26      294  \n",
       "Female                         503.98           52.22    66909  \n",
       "Male                           575.74           69.87    47776  \n",
       "Mixed_gen_word                 350.20           33.86     3604  \n",
       "Mixed_pro                     1185.48          352.03     1184  \n",
       "Non-binary                    1343.85          315.95      826  \n",
       "NaN                            417.99           44.26   428512  "
      ]
     },
     "execution_count": 8,
     "metadata": {},
     "output_type": "execute_result"
    }
   ],
   "source": [
    "f.calc_stats(\"pronoun_word_gender\", df)"
   ]
  },
  {
   "cell_type": "code",
   "execution_count": 9,
   "id": "45999c0d-adb6-48e9-88d2-7c3e377ee636",
   "metadata": {},
   "outputs": [
    {
     "data": {
      "text/html": [
       "<div>\n",
       "<style scoped>\n",
       "    .dataframe tbody tr th:only-of-type {\n",
       "        vertical-align: middle;\n",
       "    }\n",
       "\n",
       "    .dataframe tbody tr th {\n",
       "        vertical-align: top;\n",
       "    }\n",
       "\n",
       "    .dataframe thead th {\n",
       "        text-align: right;\n",
       "    }\n",
       "</style>\n",
       "<table border=\"1\" class=\"dataframe\">\n",
       "  <thead>\n",
       "    <tr style=\"text-align: right;\">\n",
       "      <th></th>\n",
       "      <th>mean_retweet_avg</th>\n",
       "      <th>median_retweet_avg</th>\n",
       "      <th>mean_likes_avg</th>\n",
       "      <th>median_likes_avg</th>\n",
       "      <th>mean_followers</th>\n",
       "      <th>median_followers</th>\n",
       "      <th>mean_ntweets</th>\n",
       "      <th>median_ntweets</th>\n",
       "      <th>n_users</th>\n",
       "    </tr>\n",
       "    <tr>\n",
       "      <th>voter_file_sex</th>\n",
       "      <th></th>\n",
       "      <th></th>\n",
       "      <th></th>\n",
       "      <th></th>\n",
       "      <th></th>\n",
       "      <th></th>\n",
       "      <th></th>\n",
       "      <th></th>\n",
       "      <th></th>\n",
       "    </tr>\n",
       "  </thead>\n",
       "  <tbody>\n",
       "    <tr>\n",
       "      <th>Female</th>\n",
       "      <td>0.37</td>\n",
       "      <td>0.05</td>\n",
       "      <td>3.34</td>\n",
       "      <td>0.88</td>\n",
       "      <td>1023.48</td>\n",
       "      <td>248.93</td>\n",
       "      <td>412.99</td>\n",
       "      <td>40.76</td>\n",
       "      <td>263185</td>\n",
       "    </tr>\n",
       "    <tr>\n",
       "      <th>Male</th>\n",
       "      <td>0.45</td>\n",
       "      <td>0.05</td>\n",
       "      <td>4.13</td>\n",
       "      <td>0.95</td>\n",
       "      <td>1298.03</td>\n",
       "      <td>248.66</td>\n",
       "      <td>482.49</td>\n",
       "      <td>54.32</td>\n",
       "      <td>261436</td>\n",
       "    </tr>\n",
       "    <tr>\n",
       "      <th>Unknown</th>\n",
       "      <td>0.55</td>\n",
       "      <td>0.06</td>\n",
       "      <td>4.25</td>\n",
       "      <td>0.97</td>\n",
       "      <td>1387.69</td>\n",
       "      <td>270.66</td>\n",
       "      <td>401.15</td>\n",
       "      <td>50.18</td>\n",
       "      <td>24484</td>\n",
       "    </tr>\n",
       "  </tbody>\n",
       "</table>\n",
       "</div>"
      ],
      "text/plain": [
       "                mean_retweet_avg  median_retweet_avg  mean_likes_avg  \\\n",
       "voter_file_sex                                                         \n",
       "Female                      0.37                0.05            3.34   \n",
       "Male                        0.45                0.05            4.13   \n",
       "Unknown                     0.55                0.06            4.25   \n",
       "\n",
       "                median_likes_avg  mean_followers  median_followers  \\\n",
       "voter_file_sex                                                       \n",
       "Female                      0.88         1023.48            248.93   \n",
       "Male                        0.95         1298.03            248.66   \n",
       "Unknown                     0.97         1387.69            270.66   \n",
       "\n",
       "                mean_ntweets  median_ntweets  n_users  \n",
       "voter_file_sex                                         \n",
       "Female                412.99           40.76   263185  \n",
       "Male                  482.49           54.32   261436  \n",
       "Unknown               401.15           50.18    24484  "
      ]
     },
     "execution_count": 9,
     "metadata": {},
     "output_type": "execute_result"
    }
   ],
   "source": [
    "f.calc_stats(\"voter_file_sex\", df)"
   ]
  },
  {
   "cell_type": "code",
   "execution_count": 123,
   "id": "6b8cbbee-5023-4fd3-a004-c9e5e36aa1bc",
   "metadata": {},
   "outputs": [
    {
     "data": {
      "text/html": [
       "<div>\n",
       "<style scoped>\n",
       "    .dataframe tbody tr th:only-of-type {\n",
       "        vertical-align: middle;\n",
       "    }\n",
       "\n",
       "    .dataframe tbody tr th {\n",
       "        vertical-align: top;\n",
       "    }\n",
       "\n",
       "    .dataframe thead th {\n",
       "        text-align: right;\n",
       "    }\n",
       "</style>\n",
       "<table border=\"1\" class=\"dataframe\">\n",
       "  <thead>\n",
       "    <tr style=\"text-align: right;\">\n",
       "      <th></th>\n",
       "      <th>mean_retweet_avg</th>\n",
       "      <th>median_retweet_avg</th>\n",
       "      <th>mean_likes_avg</th>\n",
       "      <th>median_likes_avg</th>\n",
       "      <th>mean_followers</th>\n",
       "      <th>median_followers</th>\n",
       "      <th>mean_ntweets</th>\n",
       "      <th>median_ntweets</th>\n",
       "      <th>median_age</th>\n",
       "      <th>n_users</th>\n",
       "    </tr>\n",
       "    <tr>\n",
       "      <th>gold_gender</th>\n",
       "      <th></th>\n",
       "      <th></th>\n",
       "      <th></th>\n",
       "      <th></th>\n",
       "      <th></th>\n",
       "      <th></th>\n",
       "      <th></th>\n",
       "      <th></th>\n",
       "      <th></th>\n",
       "      <th></th>\n",
       "    </tr>\n",
       "  </thead>\n",
       "  <tbody>\n",
       "    <tr>\n",
       "      <th>Female</th>\n",
       "      <td>0.42</td>\n",
       "      <td>0.07</td>\n",
       "      <td>3.96</td>\n",
       "      <td>1.43</td>\n",
       "      <td>1541.34</td>\n",
       "      <td>365.0</td>\n",
       "      <td>796.56</td>\n",
       "      <td>98.0</td>\n",
       "      <td>42.0</td>\n",
       "      <td>2135</td>\n",
       "    </tr>\n",
       "    <tr>\n",
       "      <th>Male</th>\n",
       "      <td>0.58</td>\n",
       "      <td>0.06</td>\n",
       "      <td>4.45</td>\n",
       "      <td>1.27</td>\n",
       "      <td>1721.49</td>\n",
       "      <td>322.0</td>\n",
       "      <td>891.23</td>\n",
       "      <td>99.0</td>\n",
       "      <td>42.0</td>\n",
       "      <td>2114</td>\n",
       "    </tr>\n",
       "    <tr>\n",
       "      <th>Mixed</th>\n",
       "      <td>0.45</td>\n",
       "      <td>0.05</td>\n",
       "      <td>4.93</td>\n",
       "      <td>1.28</td>\n",
       "      <td>907.06</td>\n",
       "      <td>233.0</td>\n",
       "      <td>800.51</td>\n",
       "      <td>99.0</td>\n",
       "      <td>39.0</td>\n",
       "      <td>391</td>\n",
       "    </tr>\n",
       "    <tr>\n",
       "      <th>Non-binary</th>\n",
       "      <td>0.42</td>\n",
       "      <td>0.05</td>\n",
       "      <td>4.01</td>\n",
       "      <td>1.29</td>\n",
       "      <td>663.93</td>\n",
       "      <td>299.0</td>\n",
       "      <td>1700.07</td>\n",
       "      <td>913.0</td>\n",
       "      <td>29.0</td>\n",
       "      <td>15</td>\n",
       "    </tr>\n",
       "    <tr>\n",
       "      <th>Not sure</th>\n",
       "      <td>1.06</td>\n",
       "      <td>0.06</td>\n",
       "      <td>11.20</td>\n",
       "      <td>1.30</td>\n",
       "      <td>1528.21</td>\n",
       "      <td>238.0</td>\n",
       "      <td>1202.84</td>\n",
       "      <td>99.0</td>\n",
       "      <td>40.0</td>\n",
       "      <td>123</td>\n",
       "    </tr>\n",
       "    <tr>\n",
       "      <th>NaN</th>\n",
       "      <td>0.42</td>\n",
       "      <td>0.01</td>\n",
       "      <td>3.75</td>\n",
       "      <td>0.78</td>\n",
       "      <td>1167.00</td>\n",
       "      <td>211.0</td>\n",
       "      <td>441.98</td>\n",
       "      <td>39.0</td>\n",
       "      <td>42.0</td>\n",
       "      <td>544327</td>\n",
       "    </tr>\n",
       "  </tbody>\n",
       "</table>\n",
       "</div>"
      ],
      "text/plain": [
       "             mean_retweet_avg  median_retweet_avg  mean_likes_avg  \\\n",
       "gold_gender                                                         \n",
       "Female                   0.42                0.07            3.96   \n",
       "Male                     0.58                0.06            4.45   \n",
       "Mixed                    0.45                0.05            4.93   \n",
       "Non-binary               0.42                0.05            4.01   \n",
       "Not sure                 1.06                0.06           11.20   \n",
       "NaN                      0.42                0.01            3.75   \n",
       "\n",
       "             median_likes_avg  mean_followers  median_followers  mean_ntweets  \\\n",
       "gold_gender                                                                     \n",
       "Female                   1.43         1541.34             365.0        796.56   \n",
       "Male                     1.27         1721.49             322.0        891.23   \n",
       "Mixed                    1.28          907.06             233.0        800.51   \n",
       "Non-binary               1.29          663.93             299.0       1700.07   \n",
       "Not sure                 1.30         1528.21             238.0       1202.84   \n",
       "NaN                      0.78         1167.00             211.0        441.98   \n",
       "\n",
       "             median_ntweets  median_age  n_users  \n",
       "gold_gender                                       \n",
       "Female                 98.0        42.0     2135  \n",
       "Male                   99.0        42.0     2114  \n",
       "Mixed                  99.0        39.0      391  \n",
       "Non-binary            913.0        29.0       15  \n",
       "Not sure               99.0        40.0      123  \n",
       "NaN                    39.0        42.0   544327  "
      ]
     },
     "execution_count": 123,
     "metadata": {},
     "output_type": "execute_result"
    }
   ],
   "source": [
    "f.calc_stats(\"gold_gender\", df)"
   ]
  },
  {
   "cell_type": "code",
   "execution_count": 124,
   "id": "5cf78329-456d-4804-ac75-9429db5e6237",
   "metadata": {},
   "outputs": [
    {
     "data": {
      "text/plain": [
       "{'likes': (36107244663.0, 2.0426244861590884e-213),\n",
       " 'retweets': (35728619100.5, 3.615624843789042e-144),\n",
       " 'followers': (34542646750.5, 0.005450543433564414)}"
      ]
     },
     "execution_count": 124,
     "metadata": {},
     "output_type": "execute_result"
    }
   ],
   "source": [
    "f.run_all_mann(df, \"voter_file_sex\", \"Male\", \"Female\", \"greater\")"
   ]
  },
  {
   "cell_type": "code",
   "execution_count": 125,
   "id": "342fa3ef-66c5-493b-a96f-6d1c59d89bad",
   "metadata": {},
   "outputs": [
    {
     "data": {
      "text/plain": [
       "{'likes': (1166606942.5, 1.1222283629164514e-77),\n",
       " 'retweets': (1148921497.5, 3.3036195031973315e-52),\n",
       " 'followers': (1143461779.0, 8.422499462547747e-39)}"
      ]
     },
     "execution_count": 125,
     "metadata": {},
     "output_type": "execute_result"
    }
   ],
   "source": [
    "f.run_all_mann(df, \"word_gender\", \"Male\", \"Female\", \"greater\")"
   ]
  },
  {
   "cell_type": "code",
   "execution_count": 126,
   "id": "06668529-84ba-4830-8094-5a64da3871a5",
   "metadata": {},
   "outputs": [
    {
     "data": {
      "text/plain": [
       "{'likes': (63853117.5, 0.003433888105295582),\n",
       " 'retweets': (64604747.0, 0.10854012049921774),\n",
       " 'followers': (63475030.0, 0.0002869892374420969)}"
      ]
     },
     "execution_count": 126,
     "metadata": {},
     "output_type": "execute_result"
    }
   ],
   "source": [
    "f.run_all_mann(df, \"pronoun_gender\", \"Male\", \"Female\", \"less\")"
   ]
  },
  {
   "cell_type": "code",
   "execution_count": 127,
   "id": "10a5bdd3-9698-4abe-94cc-345676afea29",
   "metadata": {},
   "outputs": [
    {
     "data": {
      "text/plain": [
       "{'likes': (10737993.5, 0.0005477800216757813),\n",
       " 'retweets': (10722932.5, 0.0006887297832212661),\n",
       " 'followers': (11838010.5, 2.4898961107940937e-18)}"
      ]
     },
     "execution_count": 127,
     "metadata": {},
     "output_type": "execute_result"
    }
   ],
   "source": [
    "df[\"pronoun_gender_g\"] = df.pronoun_gender\n",
    "df.loc[df.pronoun_gender_g.isin([\"Female\",\"Male\"]), \"pronoun_gender_g\"] = \"Binary\"\n",
    "f.run_all_mann(df, \"pronoun_gender_g\", \"Binary\", \"Non-binary\", \"greater\")"
   ]
  },
  {
   "cell_type": "code",
   "execution_count": 128,
   "id": "5670928b-87e9-4492-9a9e-d10b67ab3c20",
   "metadata": {},
   "outputs": [
    {
     "data": {
      "text/plain": [
       "{'likes': (10111381286.0, 0.0),\n",
       " 'retweets': (9178574943.5, 0.0),\n",
       " 'followers': (8669631605.5, 0.0)}"
      ]
     },
     "execution_count": 128,
     "metadata": {},
     "output_type": "execute_result"
    }
   ],
   "source": [
    "df[\"uses_pronouns\"] = ~pd.isna(df.pronoun_gender)\n",
    "f.run_all_mann(df, \"uses_pronouns\", True, False, \"greater\")"
   ]
  },
  {
   "cell_type": "code",
   "execution_count": 129,
   "id": "14e3c1fc-0aa7-4b1c-bd96-b5248cc0f003",
   "metadata": {},
   "outputs": [
    {
     "name": "stdout",
     "output_type": "stream",
     "text": [
      "Median age of pronoun users 35.0\n",
      "Median age of gendered words users 46.0\n"
     ]
    }
   ],
   "source": [
    "# NOTE: The age calculation can not be done on the anomymized dataset\n",
    "# print(f\"Median age of pronoun users {np.median(df.loc[(df.uses_pronouns) & (~pd.isna(df.age)), 'age'])}\")\n",
    "# df[\"uses_words\"] = ~pd.isna(df.word_gender)\n",
    "# print(f\"Median age of gendered words users {np.median(df.loc[(df.uses_words) & (~pd.isna(df.age)), 'age'])}\")"
   ]
  },
  {
   "cell_type": "code",
   "execution_count": 130,
   "id": "75fc0ecf-a9be-4aeb-941c-08730b7d76e1",
   "metadata": {},
   "outputs": [
    {
     "data": {
      "text/plain": [
       "{'likes': (2179616.5, 0.02693490533117898),\n",
       " 'retweets': (2209489.0, 0.11808288070000955),\n",
       " 'followers': (2190370.5, 0.0485696442148006)}"
      ]
     },
     "execution_count": 130,
     "metadata": {},
     "output_type": "execute_result"
    }
   ],
   "source": [
    "f.run_all_mann(df, \"code_gender\", \"Male\", \"Female\", \"less\")"
   ]
  },
  {
   "cell_type": "code",
   "execution_count": 131,
   "id": "d8013253-1e07-4493-b5fc-69ce8cd5179f",
   "metadata": {},
   "outputs": [
    {
     "data": {
      "text/plain": [
       "{'likes': (1140396.5, 0.29024125905280795),\n",
       " 'retweets': (1180583.0, 0.02855622687751495),\n",
       " 'followers': (1304463.5, 7.881481176914202e-10)}"
      ]
     },
     "execution_count": 131,
     "metadata": {},
     "output_type": "execute_result"
    }
   ],
   "source": [
    "df[\"code_gender_g\"] = df.gold_gender\n",
    "df.loc[df.gold_gender_g.isin([\"Female\",\"Male\"]), \"gold_gender_g\"] = \"Binary\"\n",
    "df.loc[df.gold_gender_g.isin([\"Non-binary\",\"Mixed\", \"Not sure\"]), \"code_gender_g\"] = \"Other\"\n",
    "f.run_all_mann(df, \"code_gender_g\", \"Binary\", \"Other\", \"greater\")"
   ]
  },
  {
   "cell_type": "code",
   "execution_count": 145,
   "id": "9d8ea41c-f295-4570-b3fd-4c95c9291828",
   "metadata": {},
   "outputs": [
    {
     "data": {
      "text/plain": [
       "<module 'matplotlib.pyplot' from '/usr/local/lib/python3.10/dist-packages/matplotlib/pyplot.py'>"
      ]
     },
     "execution_count": 145,
     "metadata": {},
     "output_type": "execute_result"
    },
    {
     "data": {
      "image/png": "[encoded data removed]",
      "text/plain": [
       "<Figure size 864x252 with 3 Axes>"
      ]
     },
     "metadata": {
      "needs_background": "light"
     },
     "output_type": "display_data"
    }
   ],
   "source": [
    "df.loc[df.pronoun_gender == \"Mixed_pro\", \"pronoun_gender\"] = \"Mixed pronouns\"\n",
    "df.loc[df.pronoun_gender == \"Female\", \"pronoun_gender\"] = \"Female pronouns\"\n",
    "df.loc[df.pronoun_gender == \"Male\", \"pronoun_gender\"] = \"Male pronouns\"\n",
    "df.loc[df.pronoun_gender == \"Non-binary\", \"pronoun_gender\"] = \"Non-binary pronouns\"\n",
    "\n",
    "f.plot_mul_hist(df, \"pronoun_gender\", 25, \"loglog\",\n",
    "         path = f\"{path}/plots/histogram_pronouns\",\n",
    "         size = (12,3.5))    "
   ]
  },
  {
   "cell_type": "code",
   "execution_count": 146,
   "id": "0d51f535-6b8c-4829-91b2-e05008bfee3f",
   "metadata": {},
   "outputs": [
    {
     "data": {
      "text/plain": [
       "<module 'matplotlib.pyplot' from '/usr/local/lib/python3.10/dist-packages/matplotlib/pyplot.py'>"
      ]
     },
     "execution_count": 146,
     "metadata": {},
     "output_type": "execute_result"
    },
    {
     "data": {
      "image/png": "[encoded data removed]",
      "text/plain": [
       "<Figure size 864x252 with 3 Axes>"
      ]
     },
     "metadata": {
      "needs_background": "light"
     },
     "output_type": "display_data"
    }
   ],
   "source": [
    "f.plot_mul_hist(df, \"code_gender\", 25, \"loglog\",\n",
    "         path = f\"{path}/plots/histogram_handcoding\",\n",
    "         size = (12,3.5))    "
   ]
  },
  {
   "cell_type": "code",
   "execution_count": null,
   "id": "202d28c6-4a08-4c86-be57-c791b1e74f1a",
   "metadata": {},
   "outputs": [],
   "source": []
  }
 ],
 "metadata": {
  "kernelspec": {
   "display_name": "Python 3 (ipykernel)",
   "language": "python",
   "name": "python3"
  },
  "language_info": {
   "codemirror_mode": {
    "name": "ipython",
    "version": 3
   },
   "file_extension": ".py",
   "mimetype": "text/x-python",
   "name": "python",
   "nbconvert_exporter": "python",
   "pygments_lexer": "ipython3",
   "version": "3.10.6"
  }
 },
 "nbformat": 4,
 "nbformat_minor": 5
}
