{
 "cells": [
  {
   "cell_type": "code",
   "execution_count": 1,
   "id": "71e825d9-174d-4431-b275-215c7894adce",
   "metadata": {},
   "outputs": [],
   "source": [
    "import pandas as pd\n",
    "import numpy as np\n",
    "from collections import Counter\n",
    "\n",
    "import simpledorff\n",
    "\n",
    "# note: fleiss_kappa extends cohen's kappa to mutiple raters\n",
    "from statsmodels.stats import inter_rater"
   ]
  },
  {
   "cell_type": "code",
   "execution_count": 2,
   "id": "803e574f",
   "metadata": {},
   "outputs": [
    {
     "name": "stdout",
     "output_type": "stream",
     "text": [
      "Total of 5064 coded users loaded\n"
     ]
    }
   ],
   "source": [
    "panel_bios = pd.read_csv(f'../data/panel_bios_anonymized.tsv',\n",
    "                         sep = \"\\t\",\n",
    "                        index_col=0, \n",
    "                        low_memory=False)\n",
    "\n",
    "# separate hand coded bios\n",
    "coded_df = panel_bios[panel_bios['handcoded']==1].reset_index()\n",
    "\n",
    "print(f'Total of {len(coded_df)} coded users loaded')"
   ]
  },
  {
   "cell_type": "code",
   "execution_count": 3,
   "id": "d791c0dc-d2e5-4891-b366-939b15bd8352",
   "metadata": {},
   "outputs": [],
   "source": [
    "gender_codes = ['Coder1_gender', 'Coder2_gender', \n",
    "                  'Coder3_gender', 'Coder4_gender']\n",
    "\n",
    "trans_codes = ['Coder1_trans', 'Coder2_trans', 'Coder3_trans', 'Coder4_trans']\n",
    "\n",
    "keep = ['index', 'code_gender','code_count_gender', \n",
    "        'code_trans', 'code_count_trans', 'n_coders'] + gender_codes + trans_codes\n",
    "\n",
    "codes = coded_df[keep]"
   ]
  },
  {
   "cell_type": "markdown",
   "id": "42387e9f-2a25-4701-adfb-2bf90f9b2914",
   "metadata": {},
   "source": [
    "# Intercoder reliability for handcoded data"
   ]
  },
  {
   "cell_type": "code",
   "execution_count": 4,
   "id": "67db56aa-c78e-495a-92e9-af75a3263f30",
   "metadata": {},
   "outputs": [
    {
     "name": "stdout",
     "output_type": "stream",
     "text": [
      "200\n"
     ]
    }
   ],
   "source": [
    "# Create subsets\n",
    "all_coded = codes[codes['n_coders']==4]\n",
    "print(len(all_coded))"
   ]
  },
  {
   "cell_type": "code",
   "execution_count": 5,
   "id": "14cb7aac-a952-46ff-a839-4e13c6a0e25d",
   "metadata": {},
   "outputs": [
    {
     "name": "stdout",
     "output_type": "stream",
     "text": [
      "2422\n"
     ]
    }
   ],
   "source": [
    "batchA = codes[(codes['n_coders']==2)&(codes['Coder3_gender'].isna())]\n",
    "print(len(batchA))"
   ]
  },
  {
   "cell_type": "code",
   "execution_count": 6,
   "id": "b0732dab-3072-4acc-81fc-a78161a1db78",
   "metadata": {},
   "outputs": [
    {
     "name": "stdout",
     "output_type": "stream",
     "text": [
      "2435\n"
     ]
    }
   ],
   "source": [
    "batchB = codes[(codes['n_coders']==2)&(codes['Coder1_gender'].isna())]\n",
    "print(len(batchB))"
   ]
  },
  {
   "cell_type": "code",
   "execution_count": 7,
   "id": "93daf1f5-f763-4c05-ba09-548d02975ae7",
   "metadata": {},
   "outputs": [
    {
     "name": "stdout",
     "output_type": "stream",
     "text": [
      "9\n"
     ]
    }
   ],
   "source": [
    "# 9 people were only coded by one person\n",
    "lost = codes[codes['n_coders']==1]\n",
    "print(len(lost))"
   ]
  },
  {
   "cell_type": "code",
   "execution_count": 8,
   "id": "dfdadcf6-d661-4832-9dfe-c42a1953e514",
   "metadata": {},
   "outputs": [
    {
     "name": "stdout",
     "output_type": "stream",
     "text": [
      "5057\n"
     ]
    }
   ],
   "source": [
    "total_coded = len(all_coded) + len(batchA) + len(batchB)\n",
    "print(total_coded)"
   ]
  },
  {
   "cell_type": "markdown",
   "id": "3a8ef38d-daa8-4732-8b8c-0097166aa171",
   "metadata": {},
   "source": [
    "# Krippendorf's Alpha"
   ]
  },
  {
   "cell_type": "code",
   "execution_count": 9,
   "id": "dfa57bbb-cb05-4be9-83e0-b6879118281e",
   "metadata": {},
   "outputs": [],
   "source": [
    "def calc_kripp(df, cols, topic, group, sure=False):\n",
    "        \n",
    "    sub = df[['index'] + cols].copy()\n",
    "\n",
    "    df = pd.melt(sub, \n",
    "                 id_vars='index', value_vars=cols,  \n",
    "                 var_name='Coder', value_name='Code')\n",
    "    \n",
    "    if sure:\n",
    "        df = df[df['Code']!='Not sure']\n",
    "    \n",
    "    krip = simpledorff.calculate_krippendorffs_alpha_for_df(df,experiment_col='index',\n",
    "                                             annotator_col='Coder',\n",
    "                                             class_col='Code')\n",
    "    \n",
    "    print(f'***** {topic}: {group} ******')\n",
    "    if sure:\n",
    "        print('\"Not Sure\" values dropped')\n",
    "    print(f'Krippendorff\\'s Alpha: {krip:.2}\\n')"
   ]
  },
  {
   "cell_type": "code",
   "execution_count": 10,
   "id": "bda65fc4",
   "metadata": {},
   "outputs": [
    {
     "name": "stdout",
     "output_type": "stream",
     "text": [
      "***** Gender: ALL ******\n",
      "Krippendorff's Alpha: 0.86\n",
      "\n",
      "***** Gender: All Coded ******\n",
      "Krippendorff's Alpha: 0.87\n",
      "\n",
      "***** Gender: BatchA ******\n",
      "Krippendorff's Alpha: 0.86\n",
      "\n",
      "***** Gender: BatchB ******\n",
      "Krippendorff's Alpha: 0.85\n",
      "\n"
     ]
    }
   ],
   "source": [
    "calc_kripp(codes, gender_codes, 'Gender', 'ALL')\n",
    "calc_kripp(all_coded, gender_codes, 'Gender', 'All Coded')\n",
    "calc_kripp(batchA, gender_codes[:2], 'Gender', 'BatchA')\n",
    "calc_kripp(batchB, gender_codes[2:], 'Gender', 'BatchB')"
   ]
  },
  {
   "cell_type": "code",
   "execution_count": 11,
   "id": "ac35deca",
   "metadata": {},
   "outputs": [
    {
     "name": "stdout",
     "output_type": "stream",
     "text": [
      "***** Gender: ALL ******\n",
      "\"Not Sure\" values dropped\n",
      "Krippendorff's Alpha: 0.96\n",
      "\n",
      "***** Gender: All Coded ******\n",
      "\"Not Sure\" values dropped\n",
      "Krippendorff's Alpha: 0.97\n",
      "\n",
      "***** Gender: BatchA ******\n",
      "\"Not Sure\" values dropped\n",
      "Krippendorff's Alpha: 0.95\n",
      "\n",
      "***** Gender: BatchB ******\n",
      "\"Not Sure\" values dropped\n",
      "Krippendorff's Alpha: 0.96\n",
      "\n"
     ]
    }
   ],
   "source": [
    "calc_kripp(codes, gender_codes, 'Gender', 'ALL', sure=True)\n",
    "calc_kripp(all_coded, gender_codes, 'Gender', 'All Coded', sure=True)\n",
    "calc_kripp(batchA, gender_codes[:2], 'Gender', 'BatchA', sure=True)\n",
    "calc_kripp(batchB, gender_codes[2:], 'Gender', 'BatchB', sure=True)"
   ]
  },
  {
   "cell_type": "code",
   "execution_count": 12,
   "id": "9b5dcba9",
   "metadata": {},
   "outputs": [
    {
     "name": "stdout",
     "output_type": "stream",
     "text": [
      "***** Trans: ALL ******\n",
      "Krippendorff's Alpha: 0.25\n",
      "\n",
      "***** Trans: All Coded ******\n",
      "Krippendorff's Alpha: 0.28\n",
      "\n",
      "***** Trans: BatchA ******\n",
      "Krippendorff's Alpha: 0.29\n",
      "\n",
      "***** Trans: BatchB ******\n",
      "Krippendorff's Alpha: 0.19\n",
      "\n"
     ]
    }
   ],
   "source": [
    "calc_kripp(codes, trans_codes, 'Trans', 'ALL')\n",
    "calc_kripp(all_coded, trans_codes, 'Trans', 'All Coded')\n",
    "calc_kripp(batchA, trans_codes[:2], 'Trans', 'BatchA')\n",
    "calc_kripp(batchB, trans_codes[2:], 'Trans', 'BatchB')"
   ]
  },
  {
   "cell_type": "code",
   "execution_count": 13,
   "id": "aeb03d74",
   "metadata": {},
   "outputs": [
    {
     "name": "stdout",
     "output_type": "stream",
     "text": [
      "***** Trans: ALL ******\n",
      "\"Not Sure\" values dropped\n",
      "Krippendorff's Alpha: 0.26\n",
      "\n",
      "***** Trans: All Coded ******\n",
      "\"Not Sure\" values dropped\n",
      "Krippendorff's Alpha: 0.088\n",
      "\n",
      "***** Trans: BatchA ******\n",
      "\"Not Sure\" values dropped\n",
      "Krippendorff's Alpha: 0.6\n",
      "\n",
      "***** Trans: BatchB ******\n",
      "\"Not Sure\" values dropped\n",
      "Krippendorff's Alpha: 0.014\n",
      "\n"
     ]
    }
   ],
   "source": [
    "calc_kripp(codes, trans_codes, 'Trans', 'ALL', sure=True)\n",
    "calc_kripp(all_coded, trans_codes, 'Trans', 'All Coded', sure=True)\n",
    "calc_kripp(batchA, trans_codes[:2], 'Trans', 'BatchA', sure=True)\n",
    "calc_kripp(batchB, trans_codes[2:], 'Trans', 'BatchB', sure=True)"
   ]
  },
  {
   "cell_type": "markdown",
   "id": "b826e506-faff-45f7-863a-76c6768a4ef3",
   "metadata": {
    "tags": []
   },
   "source": [
    "# Fleiss' Kappa\n",
    "\n",
    "### This is a generalization of Cohen's Kappa for multi-annotators\n",
    "**Can NOT handle missing data**"
   ]
  },
  {
   "cell_type": "code",
   "execution_count": 14,
   "id": "1d5d0460-d7b4-4a89-9286-93c2251764ba",
   "metadata": {},
   "outputs": [],
   "source": [
    "def calc_fleiss(df, cols, topic, group):\n",
    "    sub = df[cols].copy()\n",
    "    \n",
    "    # fill missing values with not sure\n",
    "    sub = sub.fillna('Not sure')\n",
    "    \n",
    "    data, cats = inter_rater.aggregate_raters(sub) # returns a tuple (data, categories)\n",
    "    kappa = inter_rater.fleiss_kappa(data, method='fleiss')\n",
    "\n",
    "    print(f'***** {topic}: {group} ******')\n",
    "    print(f'Fleiss\\' Kappa: {kappa:.2}\\n')"
   ]
  },
  {
   "cell_type": "code",
   "execution_count": 15,
   "id": "b6ff30ce",
   "metadata": {},
   "outputs": [
    {
     "name": "stdout",
     "output_type": "stream",
     "text": [
      "***** Gender: All Coded ******\n",
      "Fleiss' Kappa: 0.87\n",
      "\n",
      "***** Gender: BatchA ******\n",
      "Fleiss' Kappa: 0.86\n",
      "\n",
      "***** Gender: BatchB ******\n",
      "Fleiss' Kappa: 0.85\n",
      "\n"
     ]
    }
   ],
   "source": [
    "calc_fleiss(all_coded, gender_codes, 'Gender', 'All Coded')\n",
    "calc_fleiss(batchA, gender_codes[:2], 'Gender', 'BatchA')\n",
    "calc_fleiss(batchB, gender_codes[2:], 'Gender', 'BatchB')"
   ]
  },
  {
   "cell_type": "code",
   "execution_count": 16,
   "id": "591351f8",
   "metadata": {},
   "outputs": [
    {
     "name": "stdout",
     "output_type": "stream",
     "text": [
      "***** Trans: All Coded ******\n",
      "Fleiss' Kappa: 0.28\n",
      "\n",
      "***** Trans: BatchA ******\n",
      "Fleiss' Kappa: 0.29\n",
      "\n",
      "***** Trans: BatchB ******\n",
      "Fleiss' Kappa: 0.2\n",
      "\n"
     ]
    }
   ],
   "source": [
    "calc_fleiss(all_coded, trans_codes, 'Trans', 'All Coded')\n",
    "calc_fleiss(batchA, trans_codes[:2], 'Trans', 'BatchA')\n",
    "calc_fleiss(batchB, trans_codes[2:], 'Trans', 'BatchB')"
   ]
  },
  {
   "cell_type": "code",
   "execution_count": 17,
   "id": "209822c4",
   "metadata": {},
   "outputs": [
    {
     "data": {
      "text/plain": [
       "{'Male': 0.44352290679304895,\n",
       " 'Female': 0.44549763033175355,\n",
       " 'Mixed': 0.08175355450236967,\n",
       " 'Not sure': 0.026263823064770934,\n",
       " 'Non-binary': 0.002962085308056872}"
      ]
     },
     "execution_count": 17,
     "metadata": {},
     "output_type": "execute_result"
    }
   ],
   "source": [
    "cnt = Counter(coded_df.code_gender)\n",
    "cnt = {key:val/len(coded_df) for key,val in cnt.items()}\n",
    "cnt"
   ]
  },
  {
   "cell_type": "code",
   "execution_count": null,
   "id": "03efd1ff-acf4-4c6d-b002-201e4200789a",
   "metadata": {},
   "outputs": [],
   "source": []
  }
 ],
 "metadata": {
  "kernelspec": {
   "display_name": "Python 3 (ipykernel)",
   "language": "python",
   "name": "python3"
  },
  "language_info": {
   "codemirror_mode": {
    "name": "ipython",
    "version": 3
   },
   "file_extension": ".py",
   "mimetype": "text/x-python",
   "name": "python",
   "nbconvert_exporter": "python",
   "pygments_lexer": "ipython3",
   "version": "3.10.6"
  }
 },
 "nbformat": 4,
 "nbformat_minor": 5
}
