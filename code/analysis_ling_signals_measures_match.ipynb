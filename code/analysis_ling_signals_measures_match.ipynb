{
 "cells": [
  {
   "cell_type": "code",
   "execution_count": 1,
   "id": "2577bb72-5d5e-4c1e-877f-cc204c1617a7",
   "metadata": {},
   "outputs": [],
   "source": [
    "import pandas as pd\n",
    "from collections import Counter\n",
    "from ast import literal_eval\n",
    "import numpy as np\n",
    "import simpledorff\n",
    "import functions as f\n",
    "\n",
    "import seaborn as sns\n",
    "import matplotlib.pyplot as plt\n",
    "import cmocean.cm as cmo\n",
    "\n",
    "path = \"..\""
   ]
  },
  {
   "cell_type": "code",
   "execution_count": null,
   "id": "5c442441",
   "metadata": {},
   "outputs": [],
   "source": [
    "import importlib\n",
    "importlib.reload(f)"
   ]
  },
  {
   "cell_type": "code",
   "execution_count": 3,
   "id": "66fe995f-4df2-43bc-9e1f-eebf421f4922",
   "metadata": {},
   "outputs": [],
   "source": [
    "panel_bios = pd.read_csv(f'{path}/data/panel_bios_anonymized.tsv',\n",
    "                         sep = \"\\t\",\n",
    "                        index_col=0, \n",
    "                        low_memory=False)\n",
    "\n",
    "# separate hand coded bios\n",
    "handcoded_bios = panel_bios[panel_bios['handcoded']==1].reset_index()\n",
    "panel_bios = panel_bios[panel_bios['panel']==1].reset_index()\n",
    "\n",
    "panel_bios[\"pronouns\"] = panel_bios.pronouns.apply(literal_eval)\n",
    "panel_bios = f.recode_genders(panel_bios)"
   ]
  },
  {
   "cell_type": "code",
   "execution_count": 4,
   "id": "b1eb1e01-7b92-4c5f-a00d-cedd0df7ad6d",
   "metadata": {},
   "outputs": [],
   "source": [
    "decahose_bios = pd.read_csv(f'{path}/data/decahose_bios_anonymized.tsv',\n",
    "                            sep = \"\\t\",\n",
    "                           index_col=0)\n",
    "decahose_bios[\"pronouns\"] = decahose_bios.pronouns.apply(literal_eval)"
   ]
  },
  {
   "cell_type": "markdown",
   "id": "eeb4383b-994e-40fb-b9e6-a86d475fdaf7",
   "metadata": {},
   "source": [
    "## Linguistic signals prevalence"
   ]
  },
  {
   "cell_type": "code",
   "execution_count": 5,
   "id": "118a2bc5-5d93-4e62-a165-a1d632c88305",
   "metadata": {},
   "outputs": [],
   "source": [
    "def print_ling_prevalence(bios):\n",
    "    n = len(bios)\n",
    "\n",
    "    pronoun_genders = list(bios['pronoun_gender'])\n",
    "    word_genders = list(bios['word_gender'])\n",
    "    pronoun_word_genders = list(bios['pronoun_word_gender'])\n",
    "    \n",
    "    options_pronoun = {item for item in set(bios['pronoun_gender']) if item==item}\n",
    "    print('PRONOUNS')\n",
    "    for item in options_pronoun:\n",
    "        print(f'   {item}: {pronoun_genders.count(item)/n:.2%}')\n",
    "    count = len([item for item in pronoun_genders if item==item])\n",
    "    print(f'Any pronoun: {count/n:.2%}')\n",
    "    \n",
    "    options_gend_term = {item for item in set(bios['word_gender']) if item==item}\n",
    "    print('\\nTERMS')\n",
    "    for item in options_gend_term:\n",
    "        print(f'   {item}: {word_genders.count(item)/n:.2%}')\n",
    "    count = len([item for item in word_genders if item==item])\n",
    "    print(f'Any gendered term: {count/n:.2%}')\n",
    "    \n",
    "    options_word_gend_term = {item for item in set(bios['pronoun_word_gender']) if item==item}\n",
    "    print('\\nPRONOUNS and TERMS')\n",
    "    for item in options_word_gend_term:\n",
    "        print(f'   {item}: {pronoun_word_genders.count(item)/n:.2%}')\n",
    "    count = len([item for item in pronoun_word_genders if item==item])\n",
    "    print(f'Any gendered term or pronoun: {count/n:.2%}')"
   ]
  },
  {
   "cell_type": "code",
   "execution_count": 6,
   "id": "af6d2ba2-dc8d-4f35-97cb-99badf4bd46c",
   "metadata": {},
   "outputs": [
    {
     "name": "stdout",
     "output_type": "stream",
     "text": [
      "Number of Panel bios: 581983\n",
      "Number of Decahose bios: 2303526\n"
     ]
    }
   ],
   "source": [
    "print(f'Number of Panel bios: {len(panel_bios)}')\n",
    "print(f'Number of Decahose bios: {len(decahose_bios)}')"
   ]
  },
  {
   "cell_type": "code",
   "execution_count": 7,
   "id": "faf28bac-ca5a-4ce7-99b9-1809ee923fbf",
   "metadata": {},
   "outputs": [
    {
     "name": "stdout",
     "output_type": "stream",
     "text": [
      "Percentage of Panel bios with voter file sex: 0.9549746298431397\n"
     ]
    }
   ],
   "source": [
    "print(f'Percentage of Panel bios with voter file sex: {len(panel_bios.loc[panel_bios.voter_file_sex.isin({\"Female\", \"Male\"})])/len(panel_bios)}')\n"
   ]
  },
  {
   "cell_type": "code",
   "execution_count": 8,
   "id": "5a008c91",
   "metadata": {},
   "outputs": [
    {
     "name": "stdout",
     "output_type": "stream",
     "text": [
      "PANEL BIOS\n",
      "\n",
      "PRONOUNS\n",
      "   Mixed_pro: 0.22%\n",
      "   Female: 2.76%\n",
      "   Male: 1.45%\n",
      "   Non-binary: 0.15%\n",
      "Any pronoun: 4.58%\n",
      "\n",
      "TERMS\n",
      "   Female: 9.76%\n",
      "   Male: 7.26%\n",
      "   Mixed_gen_word: 0.66%\n",
      "   Non-binary: 0.01%\n",
      "Any gendered term: 17.70%\n",
      "\n",
      "PRONOUNS and TERMS\n",
      "   Mixed_pro: 0.21%\n",
      "   Different_pro_gen_words: 0.05%\n",
      "   Male: 8.52%\n",
      "   Mixed_gen_word: 0.65%\n",
      "   Non-binary: 0.15%\n",
      "   Female: 12.10%\n",
      "Any gendered term or pronoun: 21.67%\n"
     ]
    }
   ],
   "source": [
    "print(\"PANEL BIOS\\n\")\n",
    "print_ling_prevalence(panel_bios)"
   ]
  },
  {
   "cell_type": "code",
   "execution_count": 9,
   "id": "34ac1197-62a5-4f90-a574-a0cfd5162f81",
   "metadata": {},
   "outputs": [
    {
     "name": "stdout",
     "output_type": "stream",
     "text": [
      "DECAHOSE BIOS\n",
      "\n",
      "PRONOUNS\n",
      "   Mixed_pro: 0.75%\n",
      "   Female: 3.35%\n",
      "   Male: 1.35%\n",
      "   Non-binary: 0.41%\n",
      "Any pronoun: 5.87%\n",
      "\n",
      "TERMS\n",
      "   Female: 2.36%\n",
      "   Male: 2.74%\n",
      "   Mixed_gen_word: 0.16%\n",
      "   Non-binary: 0.02%\n",
      "Any gendered term: 5.29%\n",
      "\n",
      "PRONOUNS and TERMS\n",
      "   Mixed_pro: 0.72%\n",
      "   Different_pro_gen_words: 0.08%\n",
      "   Male: 3.96%\n",
      "   Mixed_gen_word: 0.15%\n",
      "   Non-binary: 0.42%\n",
      "   Female: 5.51%\n",
      "Any gendered term or pronoun: 10.83%\n"
     ]
    }
   ],
   "source": [
    "print(\"DECAHOSE BIOS\\n\")\n",
    "print_ling_prevalence(decahose_bios)"
   ]
  },
  {
   "cell_type": "code",
   "execution_count": 10,
   "id": "cad7c029-8993-4fb2-9e8e-b59f527521b8",
   "metadata": {},
   "outputs": [
    {
     "name": "stdout",
     "output_type": "stream",
     "text": [
      "Non-binary or Mixed pronouns in panel: 0.37%\n"
     ]
    }
   ],
   "source": [
    "n = len(panel_bios)\n",
    "cnt = Counter(panel_bios.pronoun_gender)\n",
    "val = (cnt[\"Mixed_pro\"] + cnt[\"Non-binary\"])\n",
    "print(f'Non-binary or Mixed pronouns in panel: {val/n:.2%}')"
   ]
  },
  {
   "cell_type": "code",
   "execution_count": 11,
   "id": "a453bc40-abf5-4309-ab70-4d4499a2786c",
   "metadata": {},
   "outputs": [
    {
     "name": "stdout",
     "output_type": "stream",
     "text": [
      "Non-binary or Mixed pronouns in decahose: 1.17%\n"
     ]
    }
   ],
   "source": [
    "n = len(decahose_bios)\n",
    "cnt = Counter(decahose_bios.pronoun_gender)\n",
    "val = (cnt[\"Mixed_pro\"] + cnt[\"Non-binary\"])\n",
    "print(f'Non-binary or Mixed pronouns in decahose: {val/n:.2%}')"
   ]
  },
  {
   "cell_type": "markdown",
   "id": "c35339d9-b17f-421b-b380-e99a0ad4d431",
   "metadata": {},
   "source": [
    "## Appendix Table"
   ]
  },
  {
   "cell_type": "code",
   "execution_count": 12,
   "id": "80ad6f90-f71d-41a1-9ddd-400f6a080901",
   "metadata": {},
   "outputs": [],
   "source": [
    "### Appendix table\n",
    "most_common_pro = ['she/her', 'he/him', 'she/her/hers', 'he/him/his',  'they/them', 'she/they', 'he/they', \n",
    "                   'she/hers', 'he/his', 'they/she', 'they/he']\n",
    "\n",
    "def most_common_pro_prevalence(bios):\n",
    "    \n",
    "    n_bios = bios.shape[0]\n",
    "\n",
    "    def pro_prevalence(pro_comb):\n",
    "        return(sum(bios.pronouns.apply(lambda l: pro_comb in l))/n_bios)\n",
    "\n",
    "    for pro in most_common_pro:\n",
    "        print(f\"Percentage with {pro}\", f'{pro_prevalence(pro):.2%}')"
   ]
  },
  {
   "cell_type": "code",
   "execution_count": 13,
   "id": "f6fc307a-0689-4c84-8515-3f1ed30bf20b",
   "metadata": {},
   "outputs": [
    {
     "name": "stdout",
     "output_type": "stream",
     "text": [
      "Specific pronoun prevalence in panel bios \n",
      "\n",
      "Percentage with she/her 2.42%\n",
      "Percentage with he/him 1.21%\n",
      "Percentage with she/her/hers 0.26%\n",
      "Percentage with he/him/his 0.20%\n",
      "Percentage with they/them 0.16%\n",
      "Percentage with she/they 0.12%\n",
      "Percentage with he/they 0.05%\n",
      "Percentage with she/hers 0.04%\n",
      "Percentage with he/his 0.03%\n",
      "Percentage with they/she 0.02%\n",
      "Percentage with they/he 0.01%\n"
     ]
    }
   ],
   "source": [
    "print(\"Specific pronoun prevalence in panel bios \\n\")\n",
    "\n",
    "most_common_pro_prevalence(panel_bios)"
   ]
  },
  {
   "cell_type": "code",
   "execution_count": 14,
   "id": "66eaf314-c16c-4de3-b657-24595cfa2ae3",
   "metadata": {},
   "outputs": [
    {
     "name": "stdout",
     "output_type": "stream",
     "text": [
      "Specific pronoun prevalence in decahose bios \n",
      "\n",
      "Percentage with she/her 3.21%\n",
      "Percentage with he/him 1.27%\n",
      "Percentage with she/her/hers 0.06%\n",
      "Percentage with he/him/his 0.07%\n",
      "Percentage with they/them 0.46%\n",
      "Percentage with she/they 0.41%\n",
      "Percentage with he/they 0.17%\n",
      "Percentage with she/hers 0.01%\n",
      "Percentage with he/his 0.01%\n",
      "Percentage with they/she 0.06%\n",
      "Percentage with they/he 0.04%\n"
     ]
    }
   ],
   "source": [
    "print(\"Specific pronoun prevalence in decahose bios \\n\")\n",
    "\n",
    "most_common_pro_prevalence(decahose_bios)"
   ]
  },
  {
   "cell_type": "markdown",
   "id": "c9f86783-8045-468b-8c0f-67d57fbab6e4",
   "metadata": {},
   "source": [
    "## Handcoded bios linguistic gender change"
   ]
  },
  {
   "cell_type": "code",
   "execution_count": 15,
   "id": "090c23de",
   "metadata": {},
   "outputs": [
    {
     "name": "stdout",
     "output_type": "stream",
     "text": [
      "Number of handcoded bios without NA voter file sex 4822\n"
     ]
    }
   ],
   "source": [
    "handcoded_bios = handcoded_bios.loc[~pd.isna(handcoded_bios.voter_file_sex)]\n",
    "print(f\"Number of handcoded bios without NA voter file sex {len(handcoded_bios)}\")"
   ]
  },
  {
   "cell_type": "code",
   "execution_count": 16,
   "id": "8228db09-f566-4fa9-aad9-e7381d8405dd",
   "metadata": {},
   "outputs": [],
   "source": [
    "handcoded_bios = f.recode_genders(handcoded_bios)\n",
    "\n",
    "def compare_measures(df, var1, var2):    \n",
    "    matches = 0\n",
    "    non_match = list()\n",
    "\n",
    "    for i, row in df.iterrows():\n",
    "        orig = row[var1]\n",
    "        new = row[var2]\n",
    "\n",
    "        genders = set([orig, new])\n",
    "\n",
    "        if len(genders) == 1:\n",
    "            matches += 1\n",
    "        else:\n",
    "            non_match.append((orig, new))         \n",
    "    \n",
    "    print(f'Total of {matches} matches {matches/len(df):.2%}\\n')\n",
    "    \n",
    "    counts = Counter(non_match)    \n",
    "    for key, value in counts.items():\n",
    "        print(key[0],\"->\",key[1], value, f'{value/len(non_match):.2%}')\n",
    "        \n",
    "    return(counts, matches, non_match)"
   ]
  },
  {
   "cell_type": "code",
   "execution_count": null,
   "id": "af229a75",
   "metadata": {},
   "outputs": [],
   "source": []
  },
  {
   "cell_type": "code",
   "execution_count": 17,
   "id": "0bc3a993",
   "metadata": {},
   "outputs": [
    {
     "data": {
      "text/plain": [
       "Counter({nan: 2175,\n",
       "         'Male': 1116,\n",
       "         'Female': 1392,\n",
       "         'Mixed': 108,\n",
       "         'Non-binary': 31})"
      ]
     },
     "execution_count": 17,
     "metadata": {},
     "output_type": "execute_result"
    }
   ],
   "source": [
    "Counter(handcoded_bios.pronoun_word_gender_group)"
   ]
  },
  {
   "cell_type": "code",
   "execution_count": 18,
   "id": "6b5fb418",
   "metadata": {},
   "outputs": [
    {
     "data": {
      "text/plain": [
       "Counter({nan: 2324,\n",
       "         'Male': 1036,\n",
       "         'Female': 1304,\n",
       "         'Mixed': 130,\n",
       "         'Non-binary': 28})"
      ]
     },
     "execution_count": 18,
     "metadata": {},
     "output_type": "execute_result"
    }
   ],
   "source": [
    "Counter(handcoded_bios.pronoun_word_gender_2023_group)"
   ]
  },
  {
   "cell_type": "code",
   "execution_count": 19,
   "id": "1fd1e9ed-a795-4b40-a40d-93b223bca267",
   "metadata": {},
   "outputs": [
    {
     "data": {
      "text/plain": [
       "Counter({nan: 2324,\n",
       "         'Male': 1036,\n",
       "         'Female': 1304,\n",
       "         'Mixed': 130,\n",
       "         'Non-binary': 28})"
      ]
     },
     "execution_count": 19,
     "metadata": {},
     "output_type": "execute_result"
    }
   ],
   "source": [
    "Counter(handcoded_bios.pronoun_word_gender_2023_group)"
   ]
  },
  {
   "cell_type": "code",
   "execution_count": 20,
   "id": "bb93d51a",
   "metadata": {},
   "outputs": [
    {
     "data": {
      "text/plain": [
       "Counter({'Male': 2126,\n",
       "         'Female': 2162,\n",
       "         'Mixed': 396,\n",
       "         'Not sure': 123,\n",
       "         'Non-binary': 15})"
      ]
     },
     "execution_count": 20,
     "metadata": {},
     "output_type": "execute_result"
    }
   ],
   "source": [
    "Counter(handcoded_bios.code_gender)"
   ]
  },
  {
   "cell_type": "code",
   "execution_count": 21,
   "id": "f413f64a-fa90-4131-8eaf-8c44c3ab836b",
   "metadata": {},
   "outputs": [
    {
     "name": "stdout",
     "output_type": "stream",
     "text": [
      "0.64% of non-binary users using linguistic measures\n"
     ]
    }
   ],
   "source": [
    "print(f'{Counter(handcoded_bios.pronoun_word_gender)[\"Non-binary\"]/len(handcoded_bios):.2%} of non-binary users using linguistic measures')"
   ]
  },
  {
   "cell_type": "code",
   "execution_count": 22,
   "id": "4d1b1e9c-4406-40d0-bbf2-8c1a54a5ac3e",
   "metadata": {},
   "outputs": [
    {
     "name": "stdout",
     "output_type": "stream",
     "text": [
      "0.31% of non-binary users using handcoding\n"
     ]
    }
   ],
   "source": [
    "print(f'{Counter(handcoded_bios.code_gender)[\"Non-binary\"]/len(handcoded_bios):.2%} of non-binary users using handcoding')"
   ]
  },
  {
   "cell_type": "code",
   "execution_count": 23,
   "id": "7b853cb2-dba6-432f-bd80-cb05998fa9dc",
   "metadata": {},
   "outputs": [
    {
     "name": "stdout",
     "output_type": "stream",
     "text": [
      "MATCHES BETWEEN 2021 LINGUISTIC GENDER AND 2023 LINGUISTIC GENDER FOR HANDCODED BIOS\n",
      "\n",
      "Total of 4370 matches 90.63%\n",
      "\n",
      "Female -> nan 138 30.53%\n",
      "nan -> Male 47 10.40%\n",
      "Female -> Male 3 0.66%\n",
      "Male -> nan 129 28.54%\n",
      "Female -> Mixed_gen_word 6 1.33%\n",
      "nan -> Female 65 14.38%\n",
      "Mixed_gen_word -> nan 4 0.88%\n",
      "Mixed_gen_word -> Male 3 0.66%\n",
      "nan -> Mixed_gen_word 4 0.88%\n",
      "Non-binary -> Mixed_pro 7 1.55%\n",
      "Female -> Mixed_pro 13 2.88%\n",
      "Different_pro_gen_words -> Male 1 0.22%\n",
      "Non-binary -> Female 1 0.22%\n",
      "Mixed_pro -> Male 1 0.22%\n",
      "nan -> Mixed_pro 6 1.33%\n",
      "nan -> Non-binary 3 0.66%\n",
      "Mixed_pro -> Non-binary 4 0.88%\n",
      "Male -> Female 2 0.44%\n",
      "Male -> Different_pro_gen_words 1 0.22%\n",
      "Male -> Mixed_gen_word 1 0.22%\n",
      "Mixed_gen_word -> Female 1 0.22%\n",
      "Mixed_pro -> nan 3 0.66%\n",
      "Mixed_pro -> Female 1 0.22%\n",
      "Different_pro_gen_words -> Female 2 0.44%\n",
      "Non-binary -> nan 2 0.44%\n",
      "Male -> Mixed_pro 2 0.44%\n",
      "nan -> Different_pro_gen_words 2 0.44%\n"
     ]
    }
   ],
   "source": [
    "print(\"MATCHES BETWEEN 2021 LINGUISTIC GENDER AND 2023 LINGUISTIC GENDER FOR HANDCODED BIOS\\n\")\n",
    "\n",
    "counts, match, non_match = compare_measures(handcoded_bios,\n",
    "                          \"pronoun_word_gender\",\n",
    "                          \"pronoun_word_gender_2023\")\n",
    "\n",
    "\n"
   ]
  },
  {
   "cell_type": "code",
   "execution_count": 24,
   "id": "22bb3d28-3907-428c-8115-4d5e5a5141e9",
   "metadata": {},
   "outputs": [],
   "source": [
    "to_na = sum([val for key,val in counts.items() if pd.isna(key[1])])\n",
    "from_na = sum([val for key,val in counts.items() if pd.isna(key[0])])"
   ]
  },
  {
   "cell_type": "code",
   "execution_count": 25,
   "id": "5c9581fb-cabc-4d26-a0be-cfdbe65c0b4e",
   "metadata": {},
   "outputs": [
    {
     "name": "stdout",
     "output_type": "stream",
     "text": [
      "61.06% of non matches went to NA\n"
     ]
    }
   ],
   "source": [
    "print(f'{to_na/len(non_match):.2%} of non matches went to NA' )"
   ]
  },
  {
   "cell_type": "code",
   "execution_count": 26,
   "id": "4da91db9-9cb7-47d4-8764-815b887df8c1",
   "metadata": {},
   "outputs": [
    {
     "name": "stdout",
     "output_type": "stream",
     "text": [
      "28.10% of non matches came from NA\n"
     ]
    }
   ],
   "source": [
    "print(f'{from_na/len(non_match):.2%} of non matches came from NA' )"
   ]
  },
  {
   "cell_type": "code",
   "execution_count": 27,
   "id": "733baefa-5463-4456-921b-cce6cfb40adb",
   "metadata": {},
   "outputs": [
    {
     "name": "stdout",
     "output_type": "stream",
     "text": [
      "10.84% of non matches are because of gender changing\n"
     ]
    }
   ],
   "source": [
    "print(f'{(len(non_match)-(from_na + to_na))/len(non_match):.2%} of non matches are because of gender changing' )"
   ]
  },
  {
   "cell_type": "code",
   "execution_count": 28,
   "id": "1e028062-4c48-4215-b2e0-7c71405b95a0",
   "metadata": {},
   "outputs": [
    {
     "name": "stdout",
     "output_type": "stream",
     "text": [
      "49 users changed gender\n"
     ]
    }
   ],
   "source": [
    "print(f'{(len(non_match)-(from_na + to_na))} users changed gender' )"
   ]
  },
  {
   "cell_type": "code",
   "execution_count": 29,
   "id": "afdfef87-ec17-4870-9603-478f2128afa7",
   "metadata": {},
   "outputs": [
    {
     "name": "stdout",
     "output_type": "stream",
     "text": [
      "1.02% of all handcoded users changed gender\n"
     ]
    }
   ],
   "source": [
    "print(f'{49/len(handcoded_bios):.2%} of all handcoded users changed gender' )"
   ]
  },
  {
   "cell_type": "markdown",
   "id": "1eff6ee8-0390-476e-8ced-bbce44ec4418",
   "metadata": {},
   "source": [
    "## Matching between measures"
   ]
  },
  {
   "cell_type": "code",
   "execution_count": 30,
   "id": "d6cf70c7-0d03-4457-b18e-340d94cab846",
   "metadata": {},
   "outputs": [
    {
     "name": "stdout",
     "output_type": "stream",
     "text": [
      "MATCHES BETWEEN LINGUISTIC GENDER AND VOTER FILE SEX\n",
      "\n",
      "Total of 109669 matches 86.96%\n",
      "\n",
      "Mixed_pro -> Female 778 4.73%\n",
      "Female -> Not sure 2320 14.11%\n",
      "Male -> Female 3041 18.50%\n",
      "Mixed_gen_word -> Not sure 108 0.66%\n",
      "Female -> Male 3166 19.26%\n",
      "Mixed_gen_word -> Male 1723 10.48%\n",
      "Non-binary -> Not sure 59 0.36%\n",
      "Male -> Not sure 1785 10.86%\n",
      "Mixed_gen_word -> Female 1942 11.81%\n",
      "Non-binary -> Male 288 1.75%\n",
      "Non-binary -> Female 502 3.05%\n",
      "Different_pro_gen_words -> Female 191 1.16%\n",
      "Mixed_pro -> Male 360 2.19%\n",
      "Different_pro_gen_words -> Male 97 0.59%\n",
      "Different_pro_gen_words -> Not sure 9 0.05%\n",
      "Mixed_pro -> Not sure 71 0.43%\n"
     ]
    }
   ],
   "source": [
    "print(\"MATCHES BETWEEN LINGUISTIC GENDER AND VOTER FILE SEX\\n\")\n",
    "\n",
    "counts, match, non_match = compare_measures(panel_bios.loc[~pd.isna(panel_bios.pronoun_word_gender)],\n",
    "                          \"pronoun_word_gender\",\n",
    "                          \"voter_file_sex\")\n",
    "\n",
    "\n"
   ]
  },
  {
   "cell_type": "code",
   "execution_count": 31,
   "id": "33b2a022-a847-4905-8b00-6af30ba50caa",
   "metadata": {},
   "outputs": [
    {
     "name": "stdout",
     "output_type": "stream",
     "text": [
      "12.52% of non matches come from mixed or non binary pronoun users\n",
      "2058 non matches come from mixed or non binary pronoun users\n",
      "0.354% of non matches come from mixed or non binary pronoun users, over the whole panel\n",
      "22.95% of non matches come from mixed gendered words\n",
      "26.47% of non matches come from Unknown\n"
     ]
    }
   ],
   "source": [
    "cnt = Counter(non_match)\n",
    "\n",
    "nonb_mixed = sum([val for key,val in cnt.items() if key[0] == \"Mixed_pro\" or key[0] == \"Non-binary\"])\n",
    "print(f'{nonb_mixed/len(non_match):.2%} of non matches come from mixed or non binary pronoun users' )\n",
    "print(f'{nonb_mixed} non matches come from mixed or non binary pronoun users' )\n",
    "print(f'{nonb_mixed/len(panel_bios):.3%} of non matches come from mixed or non binary pronoun users, over the whole panel' )\n",
    "\n",
    "mixed_gen = sum([val for key,val in cnt.items() if key[0] == \"Mixed_gen_word\"])\n",
    "print(f'{mixed_gen/len(non_match):.2%} of non matches come from mixed gendered words' )\n",
    "\n",
    "print(f'{sum([val for key,val in counts.items() if key[1]==\"Not sure\"])/len(non_match):.2%} of non matches come from Unknown' )\n"
   ]
  },
  {
   "cell_type": "code",
   "execution_count": 32,
   "id": "23b7e168-61fb-4daa-bbf3-825f7e28d399",
   "metadata": {},
   "outputs": [
    {
     "name": "stdout",
     "output_type": "stream",
     "text": [
      "MATCHES BETWEEN HANDCODED BIOS AND VOTER FILE SEX\n",
      "Total of 4070 matches 84.40%\n",
      "\n",
      "Female -> Not sure 81 10.77%\n",
      "Mixed -> Female 194 25.80%\n",
      "Mixed -> Male 172 22.87%\n",
      "Not sure -> Male 70 9.31%\n",
      "Male -> Female 28 3.72%\n",
      "Male -> Not sure 90 11.97%\n",
      "Female -> Male 31 4.12%\n",
      "Not sure -> Female 41 5.45%\n",
      "Mixed -> Not sure 30 3.99%\n",
      "Non-binary -> Female 8 1.06%\n",
      "Non-binary -> Male 6 0.80%\n",
      "Non-binary -> Not sure 1 0.13%\n"
     ]
    }
   ],
   "source": [
    "print(\"MATCHES BETWEEN HANDCODED BIOS AND VOTER FILE SEX\")\n",
    "\n",
    "counts, match, non_match = compare_measures(handcoded_bios,\n",
    "                          \"code_gender\",\n",
    "                          \"voter_file_sex\")\n"
   ]
  },
  {
   "cell_type": "code",
   "execution_count": 33,
   "id": "93ce8c59-5cfa-4516-8396-62a24ddf3609",
   "metadata": {},
   "outputs": [
    {
     "name": "stdout",
     "output_type": "stream",
     "text": [
      "67.42% of non matches come from mixed or non binary pronoun users\n",
      "26.86% of non matches come from Unknown voter file sex\n",
      "37.10% of non matches come from Male voter file sex\n",
      "36.04% of non matches come from Female voter file sex\n"
     ]
    }
   ],
   "source": [
    "cnt = Counter(non_match)\n",
    "\n",
    "not_agree = sum([val for key,val in cnt.items() if key[0] == \"Mixed\" or key[0] == \"Not sure\"])\n",
    "print(f'{not_agree/len(non_match):.2%} of non matches come from mixed or non binary pronoun users' )\n",
    "\n",
    "unknown = sum([val for key,val in cnt.items() if key[1] == \"Not sure\"])\n",
    "print(f'{unknown/len(non_match):.2%} of non matches come from Unknown voter file sex' )\n",
    "\n",
    "male = sum([val for key,val in cnt.items() if key[1] == \"Male\"])\n",
    "print(f'{male/len(non_match):.2%} of non matches come from Male voter file sex' )\n",
    "\n",
    "female = sum([val for key,val in cnt.items() if key[1] == \"Female\"])\n",
    "print(f'{female/len(non_match):.2%} of non matches come from Female voter file sex' )"
   ]
  },
  {
   "cell_type": "code",
   "execution_count": 34,
   "id": "5c5f3001-ad21-40dd-b572-1f4dd3020fb8",
   "metadata": {},
   "outputs": [
    {
     "name": "stdout",
     "output_type": "stream",
     "text": [
      "MATCHES BETWEEN HANDCODED BIOS AND LINGUISTIC SIGNALS\n",
      "Total of 2236 matches 84.47%\n",
      "\n",
      "Female -> Male 38 9.25%\n",
      "Mixed -> Male 69 16.79%\n",
      "Mixed -> Female 93 22.63%\n",
      "Male -> Female 41 9.98%\n",
      "Not sure -> Male 25 6.08%\n",
      "Mixed -> Non-binary 15 3.65%\n",
      "Female -> Mixed 46 11.19%\n",
      "Male -> Mixed 39 9.49%\n",
      "Not sure -> Female 21 5.11%\n",
      "Not sure -> Non-binary 4 0.97%\n",
      "Non-binary -> Female 3 0.73%\n",
      "Female -> Non-binary 6 1.46%\n",
      "Not sure -> Mixed 5 1.22%\n",
      "Non-binary -> Mixed 5 1.22%\n",
      "Male -> Non-binary 1 0.24%\n"
     ]
    }
   ],
   "source": [
    "print(\"MATCHES BETWEEN HANDCODED BIOS AND LINGUISTIC SIGNALS\")\n",
    "\n",
    "handcoded_bios_flt = handcoded_bios.loc[~pd.isna(handcoded_bios.pronoun_word_gender)]\n",
    "\n",
    "counts, match, non_match = compare_measures(handcoded_bios_flt,\n",
    "                          \"code_gender\",\n",
    "                          \"pronoun_word_gender_group\")"
   ]
  },
  {
   "cell_type": "markdown",
   "id": "5f075b77-2688-4ebf-bc36-0a80b70b276a",
   "metadata": {},
   "source": [
    "## Krippendorf Heatmap"
   ]
  },
  {
   "cell_type": "code",
   "execution_count": 35,
   "id": "e8d5f0f5-1708-4f5e-9d5d-d3418da0894d",
   "metadata": {},
   "outputs": [],
   "source": [
    "agreements = np.zeros((4,4))\n",
    "\n",
    "vals = ['voter_file_sex', \n",
    "       'pronoun_word_gender_group', \n",
    "       'pronoun_word_gender_2023_group', \n",
    "       'code_gender']\n",
    "\n",
    "\n",
    "for i, col_i in enumerate(vals):\n",
    "    for j, col_j in enumerate(vals):\n",
    "        \n",
    "        if col_i != col_j:\n",
    "            sub = handcoded_bios[['index', col_i, col_j]]\n",
    "            \n",
    "            sub = sub.loc[~pd.isna(sub[col_i])]\n",
    "            sub = sub.loc[~pd.isna(sub[col_j])]\n",
    "\n",
    "\n",
    "            codes = pd.melt(sub, \n",
    "                 id_vars='index', value_vars=[col_i, col_j],  \n",
    "                 var_name='CodeType', value_name='Code')\n",
    "\n",
    "            krip = simpledorff.calculate_krippendorffs_alpha_for_df(codes,experiment_col='index',\n",
    "                                             annotator_col='CodeType',\n",
    "                                             class_col='Code')\n",
    "        \n",
    "            agreements[i][j] = krip\n",
    "        \n",
    "        else:\n",
    "            agreements[i][j] = 1\n",
    "        "
   ]
  },
  {
   "cell_type": "code",
   "execution_count": 36,
   "id": "a7cdc4e4-3a8d-4218-a7de-dd2aafa59937",
   "metadata": {},
   "outputs": [
    {
     "data": {
      "image/png": "[encoded data removed]",
      "text/plain": [
       "<Figure size 700x700 with 2 Axes>"
      ]
     },
     "metadata": {},
     "output_type": "display_data"
    }
   ],
   "source": [
    "labels = ['Voter\\nFile', 'Linguistic\\n(2021)', 'Linguistic\\n(2023)', 'Hand\\nCoding']\n",
    "\n",
    "plt.figure(figsize=(7,7))\n",
    "\n",
    "sns.set(font_scale = 1.3)\n",
    "\n",
    "sns.heatmap(agreements,\n",
    "           annot=True,\n",
    "           annot_kws={'size':12},\n",
    "           square=True,\n",
    "           vmin=0.7,\n",
    "           vmax=1,\n",
    "           cmap=cmo.deep,\n",
    "           xticklabels=labels,\n",
    "           yticklabels=labels,\n",
    "           cbar_kws={\"shrink\": 0.8}\n",
    "           )\n",
    "plt.xticks(rotation=0) \n",
    "plt.yticks(rotation=0) \n",
    "\n",
    "#plt.savefig(f'plots/heatmap.png',dpi=300, bbox_inches='tight')\n",
    "plt.show()"
   ]
  },
  {
   "cell_type": "code",
   "execution_count": null,
   "id": "64358f3a-f2e4-44bc-8b82-6d9a2df7314c",
   "metadata": {},
   "outputs": [],
   "source": []
  }
 ],
 "metadata": {
  "kernelspec": {
   "display_name": "Python 3 (ipykernel)",
   "language": "python",
   "name": "python3"
  },
  "language_info": {
   "codemirror_mode": {
    "name": "ipython",
    "version": 3
   },
   "file_extension": ".py",
   "mimetype": "text/x-python",
   "name": "python",
   "nbconvert_exporter": "python",
   "pygments_lexer": "ipython3",
   "version": "3.10.6"
  }
 },
 "nbformat": 4,
 "nbformat_minor": 5
}
